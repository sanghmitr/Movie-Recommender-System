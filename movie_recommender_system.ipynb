{
  "nbformat": 4,
  "nbformat_minor": 0,
  "metadata": {
    "colab": {
      "name": "movie_recommender_system.ipynb",
      "provenance": []
    },
    "kernelspec": {
      "name": "python3",
      "display_name": "Python 3"
    },
    "language_info": {
      "name": "python"
    }
  },
  "cells": [
    {
      "cell_type": "code",
      "metadata": {
        "id": "bABYzImDA31S"
      },
      "source": [
        "pip install -U numpy==1.11.0"
      ],
      "execution_count": null,
      "outputs": []
    },
    {
      "cell_type": "code",
      "metadata": {
        "id": "5Uwrrfow-pWW"
      },
      "source": [
        "import numpy as np\n",
        "import pandas as pd"
      ],
      "execution_count": 2,
      "outputs": []
    },
    {
      "cell_type": "markdown",
      "metadata": {
        "id": "M-PGcm9DAHU4"
      },
      "source": [
        "Read the dataset from where it is downloaded in the system. It consists of two files ‘ratings.dat’ and ‘movies.dat’ which need to be read."
      ]
    },
    {
      "cell_type": "code",
      "metadata": {
        "id": "Qv72aDRi-312"
      },
      "source": [
        "data = pd.io.parsers.read_csv('/content/drive/MyDrive/Movie_Recommender_System/ratings.dat', \n",
        "    names=['user_id', 'movie_id', 'rating', 'time'],\n",
        "    engine='python', delimiter='::')\n",
        "\n",
        "movie_data = pd.io.parsers.read_csv('/content/drive/MyDrive/Movie_Recommender_System/movies.dat',\n",
        "    names=['movie_id', 'title', 'genre'],\n",
        "    engine='python', delimiter='::')"
      ],
      "execution_count": 3,
      "outputs": []
    },
    {
      "cell_type": "markdown",
      "metadata": {
        "id": "nP5yT6plAJvR"
      },
      "source": [
        "Create the rating matrix with rows as movies and columns as users."
      ]
    },
    {
      "cell_type": "code",
      "metadata": {
        "id": "tIdLx8sRAGED"
      },
      "source": [
        "ratings_mat = np.ndarray( shape=(np.max(data.movie_id.values), np.max(data.user_id.values)), dtype=np.uint8)\n",
        "ratings_mat[data.movie_id.values-1, data.user_id.values-1] = data.rating.values"
      ],
      "execution_count": 4,
      "outputs": []
    },
    {
      "cell_type": "markdown",
      "metadata": {
        "id": "WEP0CNoED4xi"
      },
      "source": [
        "Normalise the matrix."
      ]
    },
    {
      "cell_type": "code",
      "metadata": {
        "id": "qdTNyLFfAPOz"
      },
      "source": [
        "normalised_mat = ratings_mat - np.asarray([(np.mean(ratings_mat, 1))]).T"
      ],
      "execution_count": 5,
      "outputs": []
    },
    {
      "cell_type": "markdown",
      "metadata": {
        "id": "7XXl-76mD6sr"
      },
      "source": [
        "Compute the Singular Value Decomposition (SVD)."
      ]
    },
    {
      "cell_type": "code",
      "metadata": {
        "id": "r6uGvGpRD6R8"
      },
      "source": [
        "A = normalised_mat.T / np.sqrt(ratings_mat.shape[0] - 1)\n",
        "U, S, V = np.linalg.svd(A)"
      ],
      "execution_count": 6,
      "outputs": []
    },
    {
      "cell_type": "markdown",
      "metadata": {
        "id": "ATFM8kR3EEOi"
      },
      "source": [
        "Define a function to calculate the cosine similarity. Sort by most similar and return the top N results."
      ]
    },
    {
      "cell_type": "code",
      "metadata": {
        "id": "cy-PpfXSAf48"
      },
      "source": [
        "def top_cosine_similarity(data, movie_id, top_n=10):\n",
        "    index = movie_id - 1 # Movie id starts from 1 in the dataset\n",
        "    movie_row = data[index, :]\n",
        "    magnitude = np.sqrt(np.einsum('ij, ij -> i', data, data))\n",
        "    similarity = np.dot(movie_row, data.T) / (magnitude[index] * magnitude)\n",
        "    sort_indexes = np.argsort(-similarity)\n",
        "    return sort_indexes[:top_n]"
      ],
      "execution_count": 7,
      "outputs": []
    },
    {
      "cell_type": "markdown",
      "metadata": {
        "id": "MF7m3k9PEJxb"
      },
      "source": [
        "Define a function to print top N similar movies."
      ]
    },
    {
      "cell_type": "code",
      "metadata": {
        "id": "7pfBS_hZEL9L"
      },
      "source": [
        "def print_similar_movies(movie_data, movie_id, top_indexes):\n",
        "    print('Recommendations for {0}: \\n'.format(\n",
        "    movie_data[movie_data.movie_id == movie_id].title.values[0]))\n",
        "    for id in top_indexes + 1:\n",
        "        print(movie_data[movie_data.movie_id == id].title.values[0])"
      ],
      "execution_count": 8,
      "outputs": []
    },
    {
      "cell_type": "markdown",
      "metadata": {
        "id": "23Fr9aMnEPsy"
      },
      "source": [
        "Initialise the value of k principal components, id of the movie as given in the dataset, and number of top elements to be printed."
      ]
    },
    {
      "cell_type": "code",
      "metadata": {
        "id": "ZItGxvYGEUpn",
        "colab": {
          "base_uri": "https://localhost:8080/"
        },
        "outputId": "d55d5086-2708-46cb-8443-d6edff1ada41"
      },
      "source": [
        "k = 50\n",
        "movie_id = 23 # (getting an id from movies.dat)\n",
        "top_n = 10\n",
        "sliced = V.T[:, :k] # representative data\n",
        "indexes = top_cosine_similarity(sliced, movie_id, top_n)"
      ],
      "execution_count": 19,
      "outputs": [
        {
          "output_type": "stream",
          "name": "stderr",
          "text": [
            "/usr/local/lib/python3.7/dist-packages/ipykernel_launcher.py:5: RuntimeWarning: invalid value encountered in true_divide\n",
            "  \"\"\"\n"
          ]
        }
      ]
    },
    {
      "cell_type": "markdown",
      "metadata": {
        "id": "pTj6tOiJEeiu"
      },
      "source": [
        "Print the top N similar movies."
      ]
    },
    {
      "cell_type": "code",
      "metadata": {
        "colab": {
          "base_uri": "https://localhost:8080/"
        },
        "id": "UjixTr5NEZSw",
        "outputId": "7e7ef5bd-c329-4d67-9328-31f39143e2cb"
      },
      "source": [
        "print_similar_movies(movie_data, movie_id, indexes)"
      ],
      "execution_count": 20,
      "outputs": [
        {
          "output_type": "stream",
          "name": "stdout",
          "text": [
            "Recommendations for Assassins (1995): \n",
            "\n",
            "Assassins (1995)\n",
            "Eye for an Eye (1996)\n",
            "Jury Duty (1995)\n",
            "Chungking Express (1994)\n",
            "Kids of the Round Table (1995)\n",
            "It Takes Two (1995)\n",
            "Unzipped (1995)\n",
            "Screamers (1995)\n",
            "Home for the Holidays (1995)\n",
            "Crossing Guard, The (1995)\n"
          ]
        }
      ]
    },
    {
      "cell_type": "code",
      "metadata": {
        "id": "kQCfIzLOEq-T"
      },
      "source": [
        ""
      ],
      "execution_count": null,
      "outputs": []
    }
  ]
}